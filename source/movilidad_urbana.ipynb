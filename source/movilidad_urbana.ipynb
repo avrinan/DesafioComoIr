{
 "cells": [
  {
   "cell_type": "markdown",
   "metadata": {},
   "source": [
    "# Analisis de la movilidad urbana utilizando estadisticas del Comoir"
   ]
  },
  {
   "cell_type": "markdown",
   "metadata": {},
   "source": [
    "En este notebook intento realizar un analisis geoespacial de la movilidad urbana utilizando como fuente de datos las estadisticas de uso de la aplicacion Comoir publicadas por la IMM.\n",
    "\n",
    "Primero lo primero - Los import!"
   ]
  },
  {
   "cell_type": "code",
   "execution_count": 9,
   "metadata": {
    "collapsed": true
   },
   "outputs": [],
   "source": [
    "import seaborn as sns\n",
    "import matplotlib.pyplot as plt\n",
    "import numpy as np\n",
    "import pandas as pd\n",
    "import pysal as ps\n",
    "import geopandas as gpd\n",
    "from sklearn import cluster\n",
    "from sklearn.preprocessing import scale\n",
    "import shapely\n",
    "from pyproj import Proj, transform\n",
    "\n",
    "%matplotlib inline\n",
    "\n",
    "sns.set(style=\"whitegrid\")\n",
    "\n",
    "inProj = Proj(init='epsg:31981')\n",
    "outProj = Proj(init='epsg:4326')"
   ]
  },
  {
   "cell_type": "markdown",
   "metadata": {},
   "source": [
    "Algunas referencias a los archivos shapefile y csv para luego poder cargar los que realmetne necesito. Al momento de empezar con el notebook no tengo ni idea de cuales me van a servir y cuales no. Bueno, en realidad se que los csv con las estadisticas de las consultas realizadas por los usuarios los preciso, sino para que estoy haciendo esto?"
   ]
  },
  {
   "cell_type": "code",
   "execution_count": 10,
   "metadata": {
    "collapsed": true
   },
   "outputs": [],
   "source": [
    "barrios_shp_path = 'barrios/barrios.shp' #shapefile con los barrios de montevideo\n",
    "vias_shp_path = 'v_mdg_vias/v_mdg_vias.shp' #shapefile con las vias (calles, caminos, pasajes, etc.) de mvdeo\n",
    "destino_shp_path = 'v_uptu_lsv_destinos/v_uptu_lsv_destinos.shp' #shapefile con los destino... ni se porque lo baje\n",
    "ejes_shp_path = 'ejesinv/ejesinv.shp' # ejes de las calles. Tiene todas llas \"cuadras\" de cada calle.\n",
    "codpost_shp_path = 'cpost/cpost.shp' # poligonos de los distintos codigos postales de montevideo \n",
    "\n",
    "manzanas_shp_path = 'v_mdg_manzanas/v_mdg_manzanas.shp' #shapefile con las manzanas\n",
    "accesos_shp_path = 'v_mdg_accesos/v_mdg_accesos.shp' #shapefile con las calles y su numeracion. \n",
    "cultura_csv_path = 'v_uptu_lugares/uptu_cultura.csv.gz' #shapefile con la ubicacion de los centros culturales\n",
    "deporte_csv_path = 'v_uptu_lugares/uptu_deporte.csv.gz' #shapefile con los lugares centros deportivos\n",
    "educacion_csv_path = 'v_uptu_lugares/uptu_educacion.csv.gz' #shapefile con los centros educativos \n",
    "patrimonio_csv_path = 'v_uptu_lugares/uptu_patrimonio.csv.gz' #shapefile con los lugares patrimoniales\n",
    "playa_csv_path = 'v_uptu_lugares/uptu_playa.csv.gz' #shapefile con las playas\n",
    "salud_csv_path = 'v_uptu_lugares/uptu_salud.csv.gz' #shapefile con los centros de salud\n",
    "espacios_shp_path = 'v_mdg_espacios_libres/v_mdg_espacios_libres.shp' #shapefile de espacios libres (parques, plazas, etc)\n",
    "monumentos_shp_path = 'v_mdg_ubicaciones_notables/v_mdg_ubicaciones_notables.shp' #shapefile de monumentos"
   ]
  },
  {
   "cell_type": "markdown",
   "metadata": {},
   "source": [
    "Los datos con las estadisticas estan separados en 1 archivo por año. Del 2010 al 2013 inclusive, contienen la información todo el año, mientras que el 2014 solo incluye información del primer semestre de ese año. Las busquedas que se pueden hacer en Comoir son de 3 tipos por cada punto del recorrido (origen y destino) lo que da un total de 6 tipos diferentes combinados. Las busquedas pueden hacerse por:\n",
    "    - Esquina: curce de calles\n",
    "    - Dirección: calle y número\n",
    "    - Lugar de interés\n",
    "\n",
    "Cada csv indica el tipo de origen, el tipo de destino, y para cada uno de ellos se indica 1 o 2 códigos. Si el tipo del punto es dirección o lugar de interes, el código identifica la calle o el lugar de interes respectivamente. Si el tipo del punto es esquina, se indican dos codigos, donde el primero identifica una calle y el segundo la otra. Los códigos hacen referencia a los otros shapefile, para las calles se hace referencia a ejes_shp_path, y para lugares de interes se hace referencia a cultura_shp_path, deporte_shp_path, educacion_shp_path, patrimonio_shp_path, playa_shp_path, salud_shp_path, espacios_shp_path y monumentos_shp_path. Para las direcciones numeradas (calle y numero de puerta) se hace referencia al shapefile accesos_shp_path."
   ]
  },
  {
   "cell_type": "code",
   "execution_count": 11,
   "metadata": {
    "collapsed": true
   },
   "outputs": [],
   "source": [
    "r2010_csv_path = 'comoir/comoir_2010_1.csv.gz'\n",
    "r2011_csv_path = 'comoir/comoir_2011_1.csv.gz'\n",
    "r2012_csv_path = 'comoir/comoir_2012_1.csv.gz' \n",
    "r2013_csv_path = 'comoir/comoir_2013_1.csv.gz'\n",
    "r2014_csv_path = 'comoir/comoir_2014_1.csv.gz'"
   ]
  },
  {
   "cell_type": "code",
   "execution_count": 12,
   "metadata": {
    "collapsed": false
   },
   "outputs": [],
   "source": [
    "#Levanto los lugares de interes y agrego a cada dataframe el tipo y las coordenadas (x,y)\n",
    "cu = pd.read_csv(cultura_csv_path)      #cultura         - tipo 3\n",
    "de = pd.read_csv(deporte_csv_path)      #deporte         - tipo 4\n",
    "ed = pd.read_csv(educacion_csv_path)    #educacion       - tipo 5\n",
    "pa = pd.read_csv(patrimonio_csv_path)   #patrimonio      - tipo 9\n",
    "pl = pd.read_csv(playa_csv_path)        #playa           - tipo 10\n",
    "sa = pd.read_csv(salud_csv_path)        #salud           - tipo 11\n",
    "el = gpd.read_file(espacios_shp_path)   #espacios libres - tipo 6 espacio libre\n",
    "pq = el[np.isfinite(el['COD_NOM_PA'])]  #parques         - tipo 7\n",
    "el = el[np.isfinite(el['COD_NOM_ES'])]  #espacio libre   - tipo 6\n",
    "mo = gpd.read_file(monumentos_shp_path) #monumentos      - tipo 8\n",
    "\n",
    "cu.loc[:,'tipo'] = 3\n",
    "de.loc[:,'tipo'] = 4\n",
    "ed.loc[:,'tipo'] = 5\n",
    "pa.loc[:,'tipo'] = 9\n",
    "pl.loc[:,'tipo'] = 10\n",
    "sa.loc[:,'tipo'] = 11\n",
    "el.loc[:,'tipo'] = 6\n",
    "el.loc[:,'codigo'] = el['COD_NOM_ES'].apply(lambda c: c)\n",
    "el.loc[:,'x'] = el['geometry'].apply(lambda p: p.centroid.x)\n",
    "el.loc[:,'y'] = el['geometry'].apply(lambda p: p.centroid.y)\n",
    "pq.loc[:,'tipo'] = 7\n",
    "pq.loc[:,'codigo'] = pq['COD_NOM_PA'].apply(lambda c: c)\n",
    "pq.loc[:,'x'] = pq['geometry'].apply(lambda p: p.centroid.x)\n",
    "pq.loc[:,'y'] = pq['geometry'].apply(lambda p: p.centroid.y)\n",
    "mo.loc[:,'x'] = mo['geometry'].apply(lambda p: p.x)\n",
    "mo.loc[:,'y'] = mo['geometry'].apply(lambda p: p.y)\n",
    "mo = mo.dropna(subset=['COD_NOM_UB'])\n",
    "mo.loc[:,'tipo'] = 8\n",
    "mo.loc[:,'codigo'] = mo['COD_NOM_UB'].apply(lambda c: c)"
   ]
  },
  {
   "cell_type": "code",
   "execution_count": 13,
   "metadata": {
    "collapsed": false
   },
   "outputs": [],
   "source": [
    "#Uno todos los lugares de interes en un solo dataframe con el codigo, tipo y las coordenadas (x,y) de cada uno.\n",
    "lugares_interes = cu.append(de.append(ed.append(pa.append(pl.append(sa.append(pq.append(el.append(mo,ignore_index=True),\n",
    "                                                                              ignore_index=True),\n",
    "                                                                    ignore_index=True),\n",
    "                                                          ignore_index=True),\n",
    "                                                ignore_index=True),\n",
    "                                      ignore_index=True), \n",
    "                            ignore_index=True), \n",
    "                  ignore_index=True)\n",
    "lugares_interes = lugares_interes[['codigo', 'tipo', 'x', 'y']]"
   ]
  },
  {
   "cell_type": "code",
   "execution_count": 14,
   "metadata": {
    "collapsed": false
   },
   "outputs": [],
   "source": [
    "del cu, de, ed, pa, pl, sa, el, pq, mo"
   ]
  },
  {
   "cell_type": "code",
   "execution_count": 15,
   "metadata": {
    "collapsed": false
   },
   "outputs": [],
   "source": [
    "#Levanto las \"cuadras\" de cada calle y las agrupo por codigo para luego unir todas las cuadras de cada calle en una sola coleccion\n",
    "ejes = gpd.read_file(ejes_shp_path) \n",
    "calles = ejes.groupby('CODIGO')['geometry'].agg({'geometry': lambda x: shapely.ops.linemerge(x.values)})\n",
    "calles.loc[:,'codigo'] = calles.index\n",
    "calles.loc[:,'tipo'] = 1"
   ]
  },
  {
   "cell_type": "code",
   "execution_count": 16,
   "metadata": {
    "collapsed": false
   },
   "outputs": [],
   "source": [
    "#Levanto las calles con su numeracion\n",
    "c_nums = gpd.read_file(accesos_shp_path) \n",
    "c_nums.loc[:,'direccion'] = c_nums['NOM_CALLE'] + ' ' + c_nums['NUM_PUERTA'].map(str)\n",
    "c_nums.loc[:,'x'] = c_nums['geometry'].apply(lambda p: p.x)\n",
    "c_nums.loc[:,'y'] = c_nums['geometry'].apply(lambda p: p.y)\n",
    "c_nums.loc[:,'tipo'] = 2\n",
    "dirs = c_nums[['COD_NOMBRE', 'tipo', 'direccion','x','y']] #para cada direccion posible tengo las coordenadas (x,y)."
   ]
  },
  {
   "cell_type": "code",
   "execution_count": 17,
   "metadata": {
    "collapsed": false
   },
   "outputs": [],
   "source": [
    "#Levanto las consultas realizadas en la aplicacion del 2010 al 2014.\n",
    "#r2010 = pd.read_csv(r2010_csv_path, low_memory=False)\n",
    "cir_data = pd.read_csv(r2010_csv_path, low_memory=False)\n",
    "#r2012 = pd.read_csv(r2012_csv_path, low_memory=False)\n",
    "#r2013 = pd.read_csv(r2013_csv_path, low_memory=False)\n",
    "#r2014 = pd.read_csv(r2014_csv_path, low_memory=False)"
   ]
  },
  {
   "cell_type": "code",
   "execution_count": 18,
   "metadata": {
    "collapsed": false
   },
   "outputs": [
    {
     "data": {
      "text/plain": [
       "id                  236094\n",
       "sesion              236094\n",
       "fecha               236094\n",
       "tipo_viaje          236094\n",
       "tipo_origen         236094\n",
       "codigo_origen_1     236094\n",
       "codigo_origen_2     230597\n",
       "desc_origen         236094\n",
       "tipo_destino        236094\n",
       "codigo_destino_1    236094\n",
       "codigo_destino_2    222818\n",
       "desc_destino        236094\n",
       "distancia           236094\n",
       "es_combinacion      192528\n",
       "radio_max           192528\n",
       "largo_resp          192528\n",
       "tiempo              236094\n",
       "es_dd_origen             0\n",
       "es_dd_destino            0\n",
       "dtype: int64"
      ]
     },
     "execution_count": 18,
     "metadata": {},
     "output_type": "execute_result"
    }
   ],
   "source": [
    "cir_data.count()\n",
    "#Unifico en un solo lugar toda la info.\n",
    "#cir_data = r2010.append(r2011.append(r2012.append(r2013.append(r2014,\n",
    "#                                                               ignore_index=True),\n",
    "#                                                  ignore_index=True),\n",
    "#                                     ignore_index=True),\n",
    "#                        ignore_index=True)"
   ]
  },
  {
   "cell_type": "code",
   "execution_count": 19,
   "metadata": {
    "collapsed": false
   },
   "outputs": [],
   "source": [
    "#Ya tengo los datos de las consultas de los usuarios (datafram cir_data)\n",
    "#y por otro lado tengo, en un formato u otro, las coordenadas de cada lugar de montevideo.\n",
    "#Ahora solo tengo que unirlos; primero los origenes y luego los destino.\n",
    "o_li = cir_data.merge(lugares_interes, left_on=['codigo_origen_1', 'tipo_origen'], \n",
    "                      right_on=['codigo', 'tipo'], how='inner')\n",
    "o_li = o_li.drop_duplicates(subset=['id'], keep='first')"
   ]
  },
  {
   "cell_type": "code",
   "execution_count": 20,
   "metadata": {
    "collapsed": true
   },
   "outputs": [],
   "source": [
    "o_cc = cir_data.merge(calles, left_on=['codigo_origen_1', 'tipo_origen'], \n",
    "                      right_on=['codigo', 'tipo'], how='inner')\\\n",
    "                 .merge(calles, left_on=['codigo_origen_2', 'tipo_origen'], \n",
    "                        right_on=['codigo', 'tipo'], how='inner')\n",
    "o_cc = o_cc.drop_duplicates(subset=['id'], keep='first')"
   ]
  },
  {
   "cell_type": "code",
   "execution_count": 21,
   "metadata": {
    "collapsed": false
   },
   "outputs": [],
   "source": [
    "cd = cir_data[cir_data['tipo_origen'] == 2]\n",
    "dd = dirs[dirs.isin(cd['codigo_origen_1'].values)['COD_NOMBRE']]\n",
    "dd = dd[dd.isin(cd['desc_origen'].values)['direccion']]"
   ]
  },
  {
   "cell_type": "code",
   "execution_count": null,
   "metadata": {
    "collapsed": false
   },
   "outputs": [],
   "source": []
  },
  {
   "cell_type": "code",
   "execution_count": 22,
   "metadata": {
    "collapsed": true
   },
   "outputs": [],
   "source": [
    "o_cn = cd.merge(dd, left_on=['codigo_origen_1', 'tipo_origen'], \n",
    "                      right_on=['COD_NOMBRE', 'tipo'], how='inner')\n",
    "o_cn = o_cn.query('desc_origen==direccion')\n",
    "o_cn = o_cn.drop_duplicates(subset=['id'], keep='first')"
   ]
  },
  {
   "cell_type": "code",
   "execution_count": 23,
   "metadata": {
    "collapsed": false
   },
   "outputs": [],
   "source": [
    "d_li = cir_data.merge(lugares_interes, left_on=['codigo_destino_1', 'tipo_destino'], \n",
    "                      right_on=['codigo', 'tipo'], how='inner')\n",
    "d_li = d_li.drop_duplicates(subset=['id'], keep='first')\n",
    "\n",
    "d_cc = cir_data.merge(calles, left_on=['codigo_destino_1', 'tipo_destino'], \n",
    "                      right_on=['codigo', 'tipo'], how='inner')\\\n",
    "                 .merge(calles, left_on=['codigo_destino_2', 'tipo_destino'], \n",
    "                        right_on=['codigo', 'tipo'], how='inner')\n",
    "d_cc = d_cc.drop_duplicates(subset=['id'], keep='first')"
   ]
  },
  {
   "cell_type": "code",
   "execution_count": 24,
   "metadata": {
    "collapsed": true
   },
   "outputs": [],
   "source": [
    "cd = cir_data[cir_data['tipo_destino'] == 2]\n",
    "dd = dirs[dirs.isin(cd['codigo_destino_2'].values)['COD_NOMBRE']]\n",
    "dd = dd[dd.isin(cd['desc_destino'].values)['direccion']]"
   ]
  },
  {
   "cell_type": "code",
   "execution_count": 26,
   "metadata": {
    "collapsed": false
   },
   "outputs": [],
   "source": [
    "d_cn = cir_data.merge(dd, left_on=['codigo_destino_1', 'tipo_destino'], \n",
    "                      right_on=['COD_NOMBRE', 'tipo'], how='inner')\n",
    "d_cn = d_cn.query('desc_destino==direccion')\n",
    "d_cn = d_cn.drop_duplicates(subset=['id'], keep='first')"
   ]
  },
  {
   "cell_type": "code",
   "execution_count": 27,
   "metadata": {
    "collapsed": false
   },
   "outputs": [],
   "source": [
    "o_li = o_li[['id', 'sesion', 'tipo_origen', 'codigo_origen_1', 'codigo_origen_2', 'desc_origen', \n",
    "             'tipo_destino', 'codigo_destino_1', 'codigo_destino_2', 'desc_destino', 'x', 'y']]\n",
    "o_li = o_li.rename(columns={'x': 'x_o', 'y': 'y_o'})\n",
    "\n",
    "o_cn = o_cn[['id', 'sesion', 'tipo_origen', 'codigo_origen_1', 'codigo_origen_2', 'desc_origen', \n",
    "             'tipo_destino', 'codigo_destino_1', 'codigo_destino_2', 'desc_destino', 'x', 'y']]\n",
    "o_cn = o_cn.rename(columns={'x': 'x_o', 'y': 'y_o'})\n",
    "\n",
    "o_cc = o_cc[['id', 'sesion', 'tipo_origen', 'codigo_origen_1', 'codigo_origen_2', 'desc_origen', \n",
    "             'tipo_destino', 'codigo_destino_1', 'codigo_destino_2', 'desc_destino', 'geometry_x', 'geometry_y']]\n",
    "o_cc = o_cc.rename(columns={'geometry_x': 'geometry_o1', 'geometry_y': 'geometry_o2'})\n",
    "\n",
    "d_li = d_li[['id', 'sesion', 'tipo_origen', 'codigo_origen_1', 'codigo_origen_2', 'desc_origen', \n",
    "             'tipo_destino', 'codigo_destino_1', 'codigo_destino_2', 'desc_destino', 'x', 'y']]\n",
    "d_li = d_li.rename(columns={'x': 'x_d', 'y': 'y_d'})\n",
    "\n",
    "d_cn = d_cn[['id', 'sesion', 'tipo_origen', 'codigo_origen_1', 'codigo_origen_2', 'desc_origen', \n",
    "             'tipo_destino', 'codigo_destino_1', 'codigo_destino_2', 'desc_destino', 'x', 'y']]\n",
    "d_cn = d_cn.rename(columns={'x': 'x_d', 'y': 'y_d'})\n",
    "\n",
    "d_cc = d_cc[['id', 'sesion', 'tipo_origen', 'codigo_origen_1', 'codigo_origen_2', 'desc_origen', \n",
    "             'tipo_destino', 'codigo_destino_1', 'codigo_destino_2', 'desc_destino', 'geometry_x', 'geometry_y']]\n",
    "d_cc = d_cc.rename(columns={'geometry_x': 'geometry_d1', 'geometry_y': 'geometry_d2'})"
   ]
  },
  {
   "cell_type": "code",
   "execution_count": 28,
   "metadata": {
    "collapsed": true
   },
   "outputs": [],
   "source": [
    "d_cc.loc[:,'punto_d'] = d_cc.apply(lambda row: row.geometry_d1.intersection(row.geometry_d2), axis=1)\n",
    "o_cc.loc[:,'punto_o'] = o_cc.apply(lambda row: row.geometry_o1.intersection(row.geometry_o2), axis=1)"
   ]
  },
  {
   "cell_type": "code",
   "execution_count": 29,
   "metadata": {
    "collapsed": false
   },
   "outputs": [],
   "source": [
    "def get_xy(punto, coord):\n",
    "    if isinstance(punto, float):\n",
    "        return punto\n",
    "    elif isinstance(punto, shapely.geometry.Point):\n",
    "        return punto.xy[coord][0]\n",
    "    elif isinstance(punto, shapely.geometry.MultiPoint):\n",
    "        return punto[0].xy[coord][0]\n",
    "    elif punto.is_empty:\n",
    "        return pd.np.nan"
   ]
  },
  {
   "cell_type": "code",
   "execution_count": 31,
   "metadata": {
    "collapsed": false
   },
   "outputs": [],
   "source": [
    "d_cc.loc[:,'x_d'] = d_cc['punto_d'].apply(lambda p: get_xy(p,0))\n",
    "d_cc.loc[:,'y_d'] = d_cc['punto_d'].apply(lambda p: get_xy(p,1))\n",
    "d_cc = d_cc.dropna(subset=['x_d'])\n",
    "\n",
    "o_cc.loc[:,'x_o'] = o_cc['punto_o'].apply(lambda p: get_xy(p,0))\n",
    "o_cc.loc[:,'y_o'] = o_cc['punto_o'].apply(lambda p: get_xy(p,1))\n",
    "o_cc = o_cc.dropna(subset=['x_o'])"
   ]
  },
  {
   "cell_type": "code",
   "execution_count": 32,
   "metadata": {
    "collapsed": false
   },
   "outputs": [],
   "source": [
    "origenes = o_li.append(o_cn.append(o_cc, ignore_index=True), ignore_index=True)\n",
    "destinos = d_li.append(d_cn.append(d_cc, ignore_index=True), ignore_index=True)"
   ]
  },
  {
   "cell_type": "code",
   "execution_count": null,
   "metadata": {
    "collapsed": false
   },
   "outputs": [],
   "source": []
  },
  {
   "cell_type": "code",
   "execution_count": 33,
   "metadata": {
    "collapsed": false
   },
   "outputs": [],
   "source": [
    "origenes['geometry'] = origenes[['x_o', 'y_o']].apply(shapely.geometry.Point, axis=1)\n",
    "destinos['geometry'] = destinos[['x_d', 'y_d']].apply(shapely.geometry.Point, axis=1)"
   ]
  },
  {
   "cell_type": "code",
   "execution_count": 34,
   "metadata": {
    "collapsed": false
   },
   "outputs": [],
   "source": [
    "origenes = origenes.drop(['geometry_o1','geometry_o2','punto_o'], axis=1)\n",
    "destinos = destinos.drop(['geometry_d1','geometry_d2','punto_d'], axis=1)"
   ]
  },
  {
   "cell_type": "code",
   "execution_count": 35,
   "metadata": {
    "collapsed": false
   },
   "outputs": [],
   "source": [
    "origenes['codigo_origen_1'].fillna(value=-1,inplace=True)\n",
    "origenes['codigo_origen_2'].fillna(value=-1,inplace=True)\n",
    "destinos['codigo_destino_1'].fillna(value=-1,inplace=True)\n",
    "destinos['codigo_destino_2'].fillna(value=-1,inplace=True)"
   ]
  },
  {
   "cell_type": "code",
   "execution_count": null,
   "metadata": {
    "collapsed": false
   },
   "outputs": [],
   "source": []
  },
  {
   "cell_type": "code",
   "execution_count": 36,
   "metadata": {
    "collapsed": false
   },
   "outputs": [],
   "source": [
    "cpost = gpd.read_file(codpost_shp_path)"
   ]
  },
  {
   "cell_type": "code",
   "execution_count": 37,
   "metadata": {
    "collapsed": false
   },
   "outputs": [],
   "source": [
    "barrios = gpd.read_file(barrios_shp_path)\n",
    "barrios.index = barrios.NROBARRIO"
   ]
  },
  {
   "cell_type": "code",
   "execution_count": null,
   "metadata": {
    "collapsed": false
   },
   "outputs": [],
   "source": []
  },
  {
   "cell_type": "code",
   "execution_count": 38,
   "metadata": {
    "collapsed": false
   },
   "outputs": [],
   "source": [
    "dist_origs = origenes.drop_duplicates(subset=['x_o','y_o'], keep='first')[['x_o','y_o']]\n",
    "dist_dest = destinos.drop_duplicates(subset=['x_d','y_d'], keep='first')[['x_d','y_d']]\n",
    "gos = gpd.GeoDataFrame(origenes, crs={'init': 'epsg:31981'}, geometry='geometry')\n",
    "gds = gpd.GeoDataFrame(destinos, crs={'init': 'epsg:31981'}, geometry='geometry')"
   ]
  },
  {
   "cell_type": "code",
   "execution_count": 39,
   "metadata": {
    "collapsed": false
   },
   "outputs": [],
   "source": [
    "#gos = gos.rename(columns={'punto_o':'geometry'})\n",
    "#gds = gds.rename(columns={'punto_d':'geometry'})"
   ]
  },
  {
   "cell_type": "code",
   "execution_count": 40,
   "metadata": {
    "collapsed": false
   },
   "outputs": [],
   "source": [
    "from geopandas.tools import sjoin\n",
    "barrios.crs = crs={'init': 'epsg:31981'}\n",
    "destsEnBarrios = sjoin(barrios, gds, how='left')"
   ]
  },
  {
   "cell_type": "code",
   "execution_count": 41,
   "metadata": {
    "collapsed": true
   },
   "outputs": [],
   "source": [
    "barrios.loc[:,'Busquedas'] = destsEnBarrios.groupby('NROBARRIO').size()"
   ]
  },
  {
   "cell_type": "code",
   "execution_count": 42,
   "metadata": {
    "collapsed": false
   },
   "outputs": [
    {
     "data": {
      "image/png": "[encoded data removed]",
      "text/plain": [
       "<matplotlib.figure.Figure at 0x12b3875f8>"
      ]
     },
     "metadata": {},
     "output_type": "display_data"
    }
   ],
   "source": [
    "# Set up figure and axis\n",
    "f, ax = plt.subplots(1, figsize=(16, 16))\n",
    "# Plot the equal interval choropleth and add a legend\n",
    "barrios.plot(column='Busquedas', scheme='fisher_jenks', legend=True, \\\n",
    "           ax=ax, cmap='afmhot', linewidth=0.3)\n",
    "# Remove the axes\n",
    "ax.set_axis_off()\n",
    "# Set the title\n",
    "ax.set_title(\"Intensidad de destinos en intervalos iguales en Montevideo\")\n",
    "# Keep axes proportionate\n",
    "plt.axis('equal')\n",
    "# Draw map\n",
    "plt.show()"
   ]
  },
  {
   "cell_type": "code",
   "execution_count": null,
   "metadata": {
    "collapsed": false
   },
   "outputs": [],
   "source": []
  },
  {
   "cell_type": "markdown",
   "metadata": {},
   "source": [
    "En ***dist_dest*** y ***dist_origs*** tengo las coordenadas de los diferentes origenes y destinos consultados por los usuarios. Ahora deberia tomar esos puntos y hacer lo siguiente:\n",
    "* Plotear los barrios de montevideo en algun color base que no moleste a los capas superiores\n",
    "* Plotear los origenes en algun color que contraste bien con el fondo\n",
    "* Plotear los destinos en algun color que contraste bien con el fondo\n",
    "* Plotear en una cuarta capa la cantidad de puntos referenciando destinos que contiene cada poligono para dar una idea de la intensidad de las busquedas. Esto seria el mapa de calor"
   ]
  },
  {
   "cell_type": "code",
   "execution_count": 43,
   "metadata": {
    "collapsed": false
   },
   "outputs": [],
   "source": [
    "#['#ffffb2','#fed976','#feb24c','#fd8d3c','#fc4e2a','#e31a1c','#b10026']\n",
    "#['#ffffb2','#fecc5c','#fd8d3c','#f03b20','#bd0026']\n",
    "b2010 = np.array(barrios.Busquedas)\n",
    "bins_q5 = ps.Quantiles(b2010, k=7)\n",
    "colors5 = ['#ffffb2','#fed976','#feb24c','#fd8d3c','#fc4e2a','#e31a1c','#b10026']\n",
    "colors = [colors5[i] for i in bins_q5.yb]"
   ]
  },
  {
   "cell_type": "code",
   "execution_count": 44,
   "metadata": {
    "collapsed": true
   },
   "outputs": [],
   "source": [
    "def gpd_bokeh(df):\n",
    "    \"\"\"Convert geometries from geopandas to bokeh format\"\"\"\n",
    "    nan = float('nan')\n",
    "    lons = []\n",
    "    lats = []\n",
    "    for i,shape in enumerate(df.geometry.values):\n",
    "        if shape.geom_type == 'MultiPolygon':\n",
    "            gx = []\n",
    "            gy = []\n",
    "            ng = len(shape.geoms) - 1\n",
    "            for j,member in enumerate(shape.geoms):\n",
    "                xy = np.array(list(member.exterior.coords))\n",
    "                xs = xy[:,0].tolist()\n",
    "                ys = xy[:,1].tolist()\n",
    "                gx.extend(xs)\n",
    "                gy.extend(ys)\n",
    "                if j < ng:\n",
    "                    gx.append(nan)\n",
    "                    gy.append(nan)\n",
    "            lons.append(gx)\n",
    "            lats.append(gy)\n",
    "                \n",
    "        else:     \n",
    "            xy = np.array(list(shape.exterior.coords))\n",
    "            xs = xy[:,0].tolist()\n",
    "            ys = xy[:,1].tolist()\n",
    "            lons.append(xs)\n",
    "            lats.append(ys) \n",
    "\n",
    "    return lons,lats"
   ]
  },
  {
   "cell_type": "code",
   "execution_count": 45,
   "metadata": {
    "collapsed": false
   },
   "outputs": [],
   "source": [
    "lons, lats = gpd_bokeh(barrios)"
   ]
  },
  {
   "cell_type": "code",
   "execution_count": 46,
   "metadata": {
    "collapsed": true
   },
   "outputs": [],
   "source": [
    "from bokeh.models import HoverTool\n",
    "from bokeh.plotting import figure, show, output_file, ColumnDataSource"
   ]
  },
  {
   "cell_type": "code",
   "execution_count": null,
   "metadata": {
    "collapsed": false
   },
   "outputs": [],
   "source": []
  },
  {
   "cell_type": "code",
   "execution_count": 47,
   "metadata": {
    "collapsed": false
   },
   "outputs": [],
   "source": [
    "source = ColumnDataSource(data=dict(\n",
    "        x=lons,\n",
    "        y=lats,\n",
    "        color=colors,\n",
    "        name=barrios.BARRIO,\n",
    "        rate=b2010\n",
    "    ))\n",
    "\n",
    "TOOLS = \"pan, wheel_zoom, box_zoom, reset, hover, save\"\n",
    "p = figure(title=\"Movilidad Urbana Como Ir (2010)\", tools=TOOLS,\n",
    "          plot_width=900, plot_height=600)\n",
    "\n",
    "p.patches('x', 'y', source=source,\n",
    "         fill_color='color', fill_alpha=0.7,\n",
    "         line_color='white', line_width=0.5)\n",
    "\n",
    "hover = p.select_one(HoverTool)\n",
    "hover.point_policy = 'follow_mouse'\n",
    "hover.tooltips = [\n",
    "    (\"Barrio\", \"@name\"),\n",
    "    (\"Busquedas\", \"@rate\"),\n",
    "    (\"(Long, Lat)\", \"($x, $y)\"),\n",
    "]\n",
    "\n",
    "\n",
    "output_file(\"comoir2010.html\", title=\"comoir2010.py example\")\n",
    "show(p)"
   ]
  },
  {
   "cell_type": "code",
   "execution_count": null,
   "metadata": {
    "collapsed": false
   },
   "outputs": [],
   "source": []
  },
  {
   "cell_type": "code",
   "execution_count": null,
   "metadata": {
    "collapsed": true
   },
   "outputs": [],
   "source": []
  },
  {
   "cell_type": "code",
   "execution_count": null,
   "metadata": {
    "collapsed": true
   },
   "outputs": [],
   "source": []
  }
 ],
 "metadata": {
  "kernelspec": {
   "display_name": "Python 3",
   "language": "python",
   "name": "python3"
  },
  "language_info": {
   "codemirror_mode": {
    "name": "ipython",
    "version": 3
   },
   "file_extension": ".py",
   "mimetype": "text/x-python",
   "name": "python",
   "nbconvert_exporter": "python",
   "pygments_lexer": "ipython3",
   "version": "3.6.0"
  }
 },
 "nbformat": 4,
 "nbformat_minor": 2
}
